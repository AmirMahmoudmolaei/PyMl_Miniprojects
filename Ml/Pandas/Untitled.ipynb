{
 "cells": [
  {
   "cell_type": "code",
   "execution_count": 1,
   "id": "2cefc40b-a05c-4286-9596-2e0fea51e4e0",
   "metadata": {},
   "outputs": [
    {
     "name": "stdout",
     "output_type": "stream",
     "text": [
      "Requirement already satisfied: Faker in /home/amir/anaconda3/envs/PyMlPro/lib/python3.10/site-packages (14.2.0)\n",
      "Requirement already satisfied: python-dateutil>=2.4 in /home/amir/anaconda3/envs/PyMlPro/lib/python3.10/site-packages (from Faker) (2.8.2)\n",
      "Requirement already satisfied: six>=1.5 in /home/amir/anaconda3/envs/PyMlPro/lib/python3.10/site-packages (from python-dateutil>=2.4->Faker) (1.16.0)\n",
      "Requirement already satisfied: names-dataset in /home/amir/anaconda3/envs/PyMlPro/lib/python3.10/site-packages (3.1.0)\n",
      "Requirement already satisfied: pycountry in /home/amir/anaconda3/envs/PyMlPro/lib/python3.10/site-packages (from names-dataset) (22.3.5)\n",
      "Requirement already satisfied: setuptools in /home/amir/anaconda3/envs/PyMlPro/lib/python3.10/site-packages (from pycountry->names-dataset) (63.4.1)\n"
     ]
    }
   ],
   "source": [
    "!pip install Faker\n",
    "!pip install names-dataset"
   ]
  },
  {
   "cell_type": "code",
   "execution_count": 1,
   "id": "31cff6c4-c1ca-438b-9e00-f62d31336a28",
   "metadata": {},
   "outputs": [],
   "source": [
    "from faker import Faker\n",
    "from names_dataset import NameDataset\n",
    "import pandas as pd\n",
    "import numpy as np"
   ]
  },
  {
   "cell_type": "markdown",
   "id": "045ff066-41a3-4534-9e2f-d9d5e4c4c658",
   "metadata": {},
   "source": [
    "# Load Data"
   ]
  },
  {
   "cell_type": "code",
   "execution_count": 2,
   "id": "6f2277e7-181a-40b5-8fcd-43fac5d3b7c2",
   "metadata": {},
   "outputs": [],
   "source": [
    "en_fake = Faker()\n",
    "fa_fake = Faker('Fa')"
   ]
  },
  {
   "cell_type": "code",
   "execution_count": 11,
   "id": "43dc6309-7d04-4619-8606-d59b19a1ddd9",
   "metadata": {},
   "outputs": [],
   "source": [
    "nd = NameDataset()"
   ]
  },
  {
   "cell_type": "code",
   "execution_count": 4,
   "id": "d12f6f7e-7692-4506-8fdd-5c56ef9a9ce2",
   "metadata": {},
   "outputs": [],
   "source": [
    "def make_name():\n",
    "    if np.random.rand() > 0.5:\n",
    "        return en_fake.name()\n",
    "    return fa_fake.name()"
   ]
  },
  {
   "cell_type": "code",
   "execution_count": 32,
   "id": "b967b520-b071-4f63-a626-93a5df0ced88",
   "metadata": {},
   "outputs": [],
   "source": [
    "df = pd.DataFrame({\n",
    "    'Name': [make_name() for _ in range(10)]\n",
    "})"
   ]
  },
  {
   "cell_type": "code",
   "execution_count": 33,
   "id": "503dc224-af38-42b4-abd2-9443303ccac1",
   "metadata": {},
   "outputs": [
    {
     "data": {
      "text/html": [
       "<div>\n",
       "<style scoped>\n",
       "    .dataframe tbody tr th:only-of-type {\n",
       "        vertical-align: middle;\n",
       "    }\n",
       "\n",
       "    .dataframe tbody tr th {\n",
       "        vertical-align: top;\n",
       "    }\n",
       "\n",
       "    .dataframe thead th {\n",
       "        text-align: right;\n",
       "    }\n",
       "</style>\n",
       "<table border=\"1\" class=\"dataframe\">\n",
       "  <thead>\n",
       "    <tr style=\"text-align: right;\">\n",
       "      <th></th>\n",
       "      <th>Name</th>\n",
       "    </tr>\n",
       "  </thead>\n",
       "  <tbody>\n",
       "    <tr>\n",
       "      <th>0</th>\n",
       "      <td>David Johnson</td>\n",
       "    </tr>\n",
       "    <tr>\n",
       "      <th>1</th>\n",
       "      <td>هستی میردامادی</td>\n",
       "    </tr>\n",
       "    <tr>\n",
       "      <th>2</th>\n",
       "      <td>ريحانه صنایعی</td>\n",
       "    </tr>\n",
       "  </tbody>\n",
       "</table>\n",
       "</div>"
      ],
      "text/plain": [
       "             Name\n",
       "0   David Johnson\n",
       "1  هستی میردامادی\n",
       "2   ريحانه صنایعی"
      ]
     },
     "execution_count": 33,
     "metadata": {},
     "output_type": "execute_result"
    }
   ],
   "source": [
    "df.head(3)"
   ]
  },
  {
   "cell_type": "markdown",
   "id": "9a7ca2ea-98c6-46c5-a3db-96e93d8682fd",
   "metadata": {},
   "source": [
    "# Extract First name and Last name"
   ]
  },
  {
   "cell_type": "code",
   "execution_count": 7,
   "id": "47a954b4-6d8b-4b4e-acb5-d0a506a42dfc",
   "metadata": {},
   "outputs": [],
   "source": [
    "def get_fname_lname(name):\n",
    "    first_name, *_, last_name = name.split()\n",
    "    return first_name, last_name"
   ]
  },
  {
   "cell_type": "code",
   "execution_count": 34,
   "id": "722422fa-a0cb-4160-bfd7-b2920446bde5",
   "metadata": {},
   "outputs": [],
   "source": [
    "df['Last Name'] = df['Name'].apply(\n",
    "    lambda Name: Name.split()[1]\n",
    ")"
   ]
  },
  {
   "cell_type": "code",
   "execution_count": 35,
   "id": "4864bad1-dac6-477f-b993-0ce6ce3bd209",
   "metadata": {},
   "outputs": [],
   "source": [
    "df['First Name'] = df['Name'].apply(\n",
    "    lambda Name: Name.split()[0]\n",
    ")"
   ]
  },
  {
   "cell_type": "code",
   "execution_count": 36,
   "id": "904ff69f-c4bd-416b-969a-3793c47cc0f6",
   "metadata": {},
   "outputs": [
    {
     "data": {
      "text/html": [
       "<div>\n",
       "<style scoped>\n",
       "    .dataframe tbody tr th:only-of-type {\n",
       "        vertical-align: middle;\n",
       "    }\n",
       "\n",
       "    .dataframe tbody tr th {\n",
       "        vertical-align: top;\n",
       "    }\n",
       "\n",
       "    .dataframe thead th {\n",
       "        text-align: right;\n",
       "    }\n",
       "</style>\n",
       "<table border=\"1\" class=\"dataframe\">\n",
       "  <thead>\n",
       "    <tr style=\"text-align: right;\">\n",
       "      <th></th>\n",
       "      <th>Name</th>\n",
       "      <th>Last Name</th>\n",
       "      <th>First Name</th>\n",
       "    </tr>\n",
       "  </thead>\n",
       "  <tbody>\n",
       "    <tr>\n",
       "      <th>0</th>\n",
       "      <td>David Johnson</td>\n",
       "      <td>Johnson</td>\n",
       "      <td>David</td>\n",
       "    </tr>\n",
       "    <tr>\n",
       "      <th>1</th>\n",
       "      <td>هستی میردامادی</td>\n",
       "      <td>میردامادی</td>\n",
       "      <td>هستی</td>\n",
       "    </tr>\n",
       "  </tbody>\n",
       "</table>\n",
       "</div>"
      ],
      "text/plain": [
       "             Name  Last Name First Name\n",
       "0   David Johnson    Johnson      David\n",
       "1  هستی میردامادی  میردامادی       هستی"
      ]
     },
     "execution_count": 36,
     "metadata": {},
     "output_type": "execute_result"
    }
   ],
   "source": [
    "df.head(2)"
   ]
  },
  {
   "cell_type": "markdown",
   "id": "4ce10deb-b9b4-47f9-b7de-aaa6d2699963",
   "metadata": {},
   "source": [
    "# Predict Gender"
   ]
  },
  {
   "cell_type": "code",
   "execution_count": 37,
   "id": "56cf3e10-e527-44f0-939d-6d4783cf58a3",
   "metadata": {},
   "outputs": [],
   "source": [
    "def name_to_gender(first_name):\n",
    "    if not isinstance(first_name, str):\n",
    "        return\n",
    "    \n",
    "    info = nd.search(first_name)['first_name']\n",
    "    if info is None:\n",
    "        return\n",
    "    \n",
    "\n",
    "    return max(info['gender'], key=info['gender'].get)"
   ]
  },
  {
   "cell_type": "code",
   "execution_count": 39,
   "id": "aef5ef5b-ba28-46bb-96b8-af0fb6167873",
   "metadata": {},
   "outputs": [],
   "source": [
    "df['Gender'] = df['First Name'].apply(name_to_gender)"
   ]
  },
  {
   "cell_type": "markdown",
   "id": "53217182-99d2-4f85-9f10-514eb5bc7710",
   "metadata": {},
   "source": [
    "# Predict Country"
   ]
  },
  {
   "cell_type": "code",
   "execution_count": 65,
   "id": "18160297-d0b9-4a7d-a260-6bd8e16829cc",
   "metadata": {},
   "outputs": [],
   "source": [
    "def name_to_country(first_name):\n",
    "    if not isinstance(first_name, str):\n",
    "        return\n",
    "    \n",
    "    info = nd.search(first_name)['first_name']\n",
    "    if info is None:\n",
    "        return\n",
    "    \n",
    "\n",
    "    return max(info['country'], key=info['country'].get),info.values()"
   ]
  },
  {
   "cell_type": "code",
   "execution_count": 66,
   "id": "acab4baa-b7bd-4d86-8e6f-2d379351c6e9",
   "metadata": {},
   "outputs": [],
   "source": [
    "df['Country'] = df['First Name'].apply(name_to_country)"
   ]
  },
  {
   "cell_type": "code",
   "execution_count": 67,
   "id": "3527a5c2-7468-4486-a547-e1a5b0252588",
   "metadata": {},
   "outputs": [
    {
     "data": {
      "text/html": [
       "<div>\n",
       "<style scoped>\n",
       "    .dataframe tbody tr th:only-of-type {\n",
       "        vertical-align: middle;\n",
       "    }\n",
       "\n",
       "    .dataframe tbody tr th {\n",
       "        vertical-align: top;\n",
       "    }\n",
       "\n",
       "    .dataframe thead th {\n",
       "        text-align: right;\n",
       "    }\n",
       "</style>\n",
       "<table border=\"1\" class=\"dataframe\">\n",
       "  <thead>\n",
       "    <tr style=\"text-align: right;\">\n",
       "      <th></th>\n",
       "      <th>Name</th>\n",
       "      <th>Last Name</th>\n",
       "      <th>First Name</th>\n",
       "      <th>Gender</th>\n",
       "      <th>Country</th>\n",
       "    </tr>\n",
       "  </thead>\n",
       "  <tbody>\n",
       "    <tr>\n",
       "      <th>0</th>\n",
       "      <td>David Johnson</td>\n",
       "      <td>Johnson</td>\n",
       "      <td>David</td>\n",
       "      <td>Male</td>\n",
       "      <td>United States</td>\n",
       "    </tr>\n",
       "    <tr>\n",
       "      <th>1</th>\n",
       "      <td>هستی میردامادی</td>\n",
       "      <td>میردامادی</td>\n",
       "      <td>هستی</td>\n",
       "      <td>Female</td>\n",
       "      <td>Iran, Islamic Republic of</td>\n",
       "    </tr>\n",
       "    <tr>\n",
       "      <th>2</th>\n",
       "      <td>ريحانه صنایعی</td>\n",
       "      <td>صنایعی</td>\n",
       "      <td>ريحانه</td>\n",
       "      <td>Female</td>\n",
       "      <td>Iraq</td>\n",
       "    </tr>\n",
       "    <tr>\n",
       "      <th>3</th>\n",
       "      <td>جناب آقای دکتر احسان قاضی</td>\n",
       "      <td>آقای</td>\n",
       "      <td>جناب</td>\n",
       "      <td>Male</td>\n",
       "      <td>Egypt</td>\n",
       "    </tr>\n",
       "    <tr>\n",
       "      <th>4</th>\n",
       "      <td>Lisa Wolf</td>\n",
       "      <td>Wolf</td>\n",
       "      <td>Lisa</td>\n",
       "      <td>Female</td>\n",
       "      <td>United States</td>\n",
       "    </tr>\n",
       "    <tr>\n",
       "      <th>5</th>\n",
       "      <td>جناب آقای دکتر عرفان نیلوفری</td>\n",
       "      <td>آقای</td>\n",
       "      <td>جناب</td>\n",
       "      <td>Male</td>\n",
       "      <td>Egypt</td>\n",
       "    </tr>\n",
       "    <tr>\n",
       "      <th>6</th>\n",
       "      <td>ساميار ترکاشوند</td>\n",
       "      <td>ترکاشوند</td>\n",
       "      <td>ساميار</td>\n",
       "      <td>None</td>\n",
       "      <td>None</td>\n",
       "    </tr>\n",
       "    <tr>\n",
       "      <th>7</th>\n",
       "      <td>Cassandra Perkins</td>\n",
       "      <td>Perkins</td>\n",
       "      <td>Cassandra</td>\n",
       "      <td>Female</td>\n",
       "      <td>United States</td>\n",
       "    </tr>\n",
       "    <tr>\n",
       "      <th>8</th>\n",
       "      <td>Steven Reese</td>\n",
       "      <td>Reese</td>\n",
       "      <td>Steven</td>\n",
       "      <td>Male</td>\n",
       "      <td>United States</td>\n",
       "    </tr>\n",
       "    <tr>\n",
       "      <th>9</th>\n",
       "      <td>Jason Smith</td>\n",
       "      <td>Smith</td>\n",
       "      <td>Jason</td>\n",
       "      <td>Male</td>\n",
       "      <td>United States</td>\n",
       "    </tr>\n",
       "  </tbody>\n",
       "</table>\n",
       "</div>"
      ],
      "text/plain": [
       "                           Name  Last Name First Name  Gender  \\\n",
       "0                 David Johnson    Johnson      David    Male   \n",
       "1                هستی میردامادی  میردامادی       هستی  Female   \n",
       "2                 ريحانه صنایعی     صنایعی     ريحانه  Female   \n",
       "3     جناب آقای دکتر احسان قاضی       آقای       جناب    Male   \n",
       "4                     Lisa Wolf       Wolf       Lisa  Female   \n",
       "5  جناب آقای دکتر عرفان نیلوفری       آقای       جناب    Male   \n",
       "6               ساميار ترکاشوند   ترکاشوند     ساميار    None   \n",
       "7             Cassandra Perkins    Perkins  Cassandra  Female   \n",
       "8                  Steven Reese      Reese     Steven    Male   \n",
       "9                   Jason Smith      Smith      Jason    Male   \n",
       "\n",
       "                     Country  \n",
       "0              United States  \n",
       "1  Iran, Islamic Republic of  \n",
       "2                       Iraq  \n",
       "3                      Egypt  \n",
       "4              United States  \n",
       "5                      Egypt  \n",
       "6                       None  \n",
       "7              United States  \n",
       "8              United States  \n",
       "9              United States  "
      ]
     },
     "execution_count": 67,
     "metadata": {},
     "output_type": "execute_result"
    }
   ],
   "source": [
    "df"
   ]
  }
 ],
 "metadata": {
  "kernelspec": {
   "display_name": "Python 3 (ipykernel)",
   "language": "python",
   "name": "python3"
  },
  "language_info": {
   "codemirror_mode": {
    "name": "ipython",
    "version": 3
   },
   "file_extension": ".py",
   "mimetype": "text/x-python",
   "name": "python",
   "nbconvert_exporter": "python",
   "pygments_lexer": "ipython3",
   "version": "3.10.4"
  }
 },
 "nbformat": 4,
 "nbformat_minor": 5
}
